{
 "cells": [
  {
   "cell_type": "code",
   "execution_count": 5,
   "id": "434f76bf",
   "metadata": {},
   "outputs": [
    {
     "name": "stdout",
     "output_type": "stream",
     "text": [
      "12 fail better lucknext time\n",
      "34 fail better lucknext time\n",
      "55 good marks\n",
      "87 excellent marks keep it up\n",
      "99 excellent marks keep it up\n",
      "56 good marks\n",
      "87 excellent marks keep it up\n",
      "43 pass\n",
      "23 fail better lucknext time\n",
      "56 good marks\n",
      "87 excellent marks keep it up\n",
      "98 excellent marks keep it up\n",
      "9 fail better lucknext time\n",
      "44 pass\n"
     ]
    }
   ],
   "source": [
    "student_scores = [12,34,55,66,87,99,56,66,87,43,23,56,87,65,98,9,44]\n",
    "for marks in student_scores:\n",
    "    if marks > 60:\n",
    "        if marks >70:\n",
    "            print(marks,'excellent marks keep it up')      # the four space leave in the next line after colon is indentation\n",
    "    elif marks >50 and marks <=60:\n",
    "        print (marks,'good marks')\n",
    "    elif marks >=35 and marks<=50:\n",
    "        print(marks,'pass')\n",
    "    else:\n",
    "        print(marks,'fail better lucknext time')"
   ]
  },
  {
   "cell_type": "code",
   "execution_count": 8,
   "id": "19110e50",
   "metadata": {},
   "outputs": [
    {
     "name": "stdout",
     "output_type": "stream",
     "text": [
      "56000\n",
      "67000\n",
      "89000\n",
      "43000\n"
     ]
    }
   ],
   "source": [
    "salary = [23000,56000,67000,89000,43000,12000]\n",
    "for value in salary:\n",
    "    if value>30000:\n",
    "        print(value)"
   ]
  },
  {
   "cell_type": "raw",
   "id": "096bddc0",
   "metadata": {},
   "source": [
    "list comprehension :List comprehension offers a shorter syntax when you want to create a new list based on the values of an existing list."
   ]
  },
  {
   "cell_type": "code",
   "execution_count": 21,
   "id": "d36b277a",
   "metadata": {},
   "outputs": [
    {
     "ename": "NameError",
     "evalue": "name 'val' is not defined",
     "output_type": "error",
     "traceback": [
      "\u001b[1;31m---------------------------------------------------------------------------\u001b[0m",
      "\u001b[1;31mNameError\u001b[0m                                 Traceback (most recent call last)",
      "\u001b[1;32m~\\AppData\\Local\\Temp\\ipykernel_6408\\2539219440.py\u001b[0m in \u001b[0;36m<module>\u001b[1;34m\u001b[0m\n\u001b[0;32m      1\u001b[0m \u001b[0msalary\u001b[0m \u001b[1;33m=\u001b[0m \u001b[1;33m[\u001b[0m\u001b[1;36m2000\u001b[0m\u001b[1;33m,\u001b[0m\u001b[1;36m4000\u001b[0m\u001b[1;33m,\u001b[0m\u001b[1;36m5000\u001b[0m\u001b[1;33m,\u001b[0m\u001b[1;36m7000\u001b[0m\u001b[1;33m,\u001b[0m\u001b[1;36m8800\u001b[0m\u001b[1;33m,\u001b[0m\u001b[1;36m8000\u001b[0m\u001b[1;33m,\u001b[0m\u001b[1;36m9900\u001b[0m\u001b[1;33m]\u001b[0m\u001b[1;33m\u001b[0m\u001b[1;33m\u001b[0m\u001b[0m\n\u001b[0;32m      2\u001b[0m \u001b[0msalary\u001b[0m \u001b[1;33m=\u001b[0m \u001b[1;33m[\u001b[0m\u001b[0mval\u001b[0m \u001b[1;32mfor\u001b[0m \u001b[0mval\u001b[0m \u001b[1;32min\u001b[0m \u001b[0msalary\u001b[0m \u001b[1;32mif\u001b[0m \u001b[0mval\u001b[0m\u001b[1;33m>\u001b[0m\u001b[1;36m5500\u001b[0m\u001b[1;33m]\u001b[0m\u001b[1;33m\u001b[0m\u001b[1;33m\u001b[0m\u001b[0m\n\u001b[1;32m----> 3\u001b[1;33m \u001b[0mprint\u001b[0m\u001b[1;33m(\u001b[0m\u001b[0mval\u001b[0m\u001b[1;33m)\u001b[0m\u001b[1;33m\u001b[0m\u001b[1;33m\u001b[0m\u001b[0m\n\u001b[0m\u001b[0;32m      4\u001b[0m \u001b[1;33m\u001b[0m\u001b[0m\n",
      "\u001b[1;31mNameError\u001b[0m: name 'val' is not defined"
     ]
    }
   ],
   "source": [
    "salary = [2000,4000,5000,7000,8800,8000,9900]\n",
    "salary = [val for val in salary if val>5500]\n",
    "print(val)\n",
    "    \n"
   ]
  },
  {
   "cell_type": "raw",
   "id": "8bc89d28",
   "metadata": {},
   "source": [
    "list  is group of different type of elements"
   ]
  },
  {
   "cell_type": "raw",
   "id": "12e7d3f4",
   "metadata": {},
   "source": [
    "syntax of list comprehension :\n",
    "[expression for item in iterable] #expression will give the element of list"
   ]
  },
  {
   "cell_type": "code",
   "execution_count": 13,
   "id": "67abbc9d",
   "metadata": {},
   "outputs": [
    {
     "data": {
      "text/plain": [
       "[1, 2, 3, 4, 5, 6, 7, 8, 9, 10]"
      ]
     },
     "execution_count": 13,
     "metadata": {},
     "output_type": "execute_result"
    }
   ],
   "source": [
    "[x for x in range(1,11)]    "
   ]
  },
  {
   "cell_type": "raw",
   "id": "8b995456",
   "metadata": {},
   "source": [
    "Iterable is an object which can be looped over or iterated over with the help of a for loop. Objects like lists, tuples, sets, dictionaries, strings, etc. are called iterables. In short and simpler terms, iterable is anything that you can loop over"
   ]
  },
  {
   "cell_type": "code",
   "execution_count": 14,
   "id": "7682c5d4",
   "metadata": {},
   "outputs": [],
   "source": [
    "#[expression for item in iterable if conditional]    #if condition\n",
    "#[expression if conditional else statement for item in iterable]  #syntax for if and else condition"
   ]
  },
  {
   "cell_type": "code",
   "execution_count": 16,
   "id": "7280196f",
   "metadata": {},
   "outputs": [],
   "source": [
    "salary = [12000,44000,56000,78000,43000,23000,32000,15000]\n",
    "sal = [val for val in salary if val > 30000]"
   ]
  },
  {
   "cell_type": "code",
   "execution_count": 17,
   "id": "d59a4836",
   "metadata": {},
   "outputs": [
    {
     "data": {
      "text/plain": [
       "[12000, 44000, 56000, 78000, 43000, 23000, 32000, 15000]"
      ]
     },
     "execution_count": 17,
     "metadata": {},
     "output_type": "execute_result"
    }
   ],
   "source": [
    "salary"
   ]
  },
  {
   "cell_type": "code",
   "execution_count": 18,
   "id": "b960b00e",
   "metadata": {},
   "outputs": [
    {
     "data": {
      "text/plain": [
       "[44000, 56000, 78000, 43000, 32000]"
      ]
     },
     "execution_count": 18,
     "metadata": {},
     "output_type": "execute_result"
    }
   ],
   "source": [
    "sal"
   ]
  },
  {
   "cell_type": "code",
   "execution_count": 25,
   "id": "577a8a33",
   "metadata": {},
   "outputs": [
    {
     "name": "stdout",
     "output_type": "stream",
     "text": [
      "[65, 73, 68, 92, 92, 90, 83]\n"
     ]
    }
   ],
   "source": [
    "marks = [12,23,44,65,73,68,92,34,92,16,90,83,26]     #syntax for list comprehension with if condition\n",
    "marks = [val for val in marks if val > 45]            #it will give the result in list form\n",
    "print(marks) "
   ]
  },
  {
   "cell_type": "code",
   "execution_count": 27,
   "id": "4d29af64",
   "metadata": {},
   "outputs": [
    {
     "data": {
      "text/plain": [
       "[2, 3, 3, 4, 5, 6, 7, 8, 9, 10]"
      ]
     },
     "execution_count": 27,
     "metadata": {},
     "output_type": "execute_result"
    }
   ],
   "source": [
    "#if and else syntax\n",
    "[x if x>2 else x+1 for x in range(1,11)]\n"
   ]
  },
  {
   "cell_type": "markdown",
   "id": "a8777048",
   "metadata": {},
   "source": [
    "#  FOR LOOP WITH ELSE:"
   ]
  },
  {
   "cell_type": "code",
   "execution_count": 34,
   "id": "aa8f6abd",
   "metadata": {},
   "outputs": [
    {
     "name": "stdout",
     "output_type": "stream",
     "text": [
      "multiplication table for - 2\n",
      "2\n",
      "4\n",
      "6\n",
      "8\n",
      "10\n",
      "12\n",
      "14\n",
      "16\n",
      "18\n",
      "20\n",
      "\n",
      "\n",
      "******************************\n",
      "end of multiplication table\n",
      "******************************\n",
      "multiplication table for - 3\n",
      "3\n",
      "6\n",
      "9\n",
      "12\n",
      "15\n",
      "18\n",
      "21\n",
      "24\n",
      "27\n",
      "30\n",
      "\n",
      "\n",
      "******************************\n",
      "end of multiplication table\n",
      "******************************\n",
      "multiplication table for - 4\n",
      "4\n",
      "8\n",
      "12\n",
      "16\n",
      "20\n",
      "24\n",
      "28\n",
      "32\n",
      "36\n",
      "40\n",
      "\n",
      "\n",
      "******************************\n",
      "end of multiplication table\n",
      "******************************\n"
     ]
    }
   ],
   "source": [
    "for num in range(2,5):\n",
    "    print('multiplication table for -' , num)\n",
    "    for i in range(1,11):\n",
    "        print(num * i)\n",
    "        if i == 10:\n",
    "            print('\\n')\n",
    "    else:\n",
    "        print( '*' * 30)\n",
    "        print('end of multiplication table')\n",
    "        print('*' * 30)\n",
    "\n",
    "          \n",
    "                  "
   ]
  },
  {
   "cell_type": "markdown",
   "id": "6089c5bf",
   "metadata": {},
   "source": [
    "# while loop:\n"
   ]
  },
  {
   "cell_type": "code",
   "execution_count": 37,
   "id": "d23c70ad",
   "metadata": {},
   "outputs": [
    {
     "name": "stdout",
     "output_type": "stream",
     "text": [
      "datatrained datatrained datatrained datatrained datatrained datatrained datatrained datatrained datatrained datatrained \n"
     ]
    }
   ],
   "source": [
    "print('datatrained ' * 10)"
   ]
  },
  {
   "cell_type": "code",
   "execution_count": 39,
   "id": "a327ba14",
   "metadata": {},
   "outputs": [
    {
     "name": "stdout",
     "output_type": "stream",
     "text": [
      "1 data trained\n",
      "2 data trained\n",
      "3 data trained\n",
      "4 data trained\n",
      "5 data trained\n",
      "6 data trained\n",
      "7 data trained\n",
      "8 data trained\n",
      "9 data trained\n",
      "10 data trained\n"
     ]
    }
   ],
   "source": [
    "i= 0       #(before first time it is equal to 0)\n",
    "while i<10:\n",
    "    i = i +1\n",
    "    print(i,'data trained')    #this is the use of while loop"
   ]
  },
  {
   "cell_type": "code",
   "execution_count": 41,
   "id": "5b1efaf4",
   "metadata": {},
   "outputs": [
    {
     "name": "stdout",
     "output_type": "stream",
     "text": [
      "time.struct_time(tm_year=2022, tm_mon=11, tm_mday=15, tm_hour=14, tm_min=1, tm_sec=53, tm_wday=1, tm_yday=319, tm_isdst=0)\n"
     ]
    }
   ],
   "source": [
    "#one more example\n",
    "#setting an alarm\n",
    "import time \n",
    "result = time.localtime()\n",
    "print(result)"
   ]
  },
  {
   "cell_type": "code",
   "execution_count": 42,
   "id": "4a397149",
   "metadata": {},
   "outputs": [
    {
     "name": "stdout",
     "output_type": "stream",
     "text": [
      "wakeup call\n"
     ]
    }
   ],
   "source": [
    "while True:\n",
    "    result = time.localtime()\n",
    "    if result.tm_hour == 14 and result.tm_min ==8:\n",
    "        print('wakeup call')\n",
    "        break                    #it will showing time till the time will not match\n",
    "                                #without break wakeup call will not stop so writing break is imp"
   ]
  },
  {
   "cell_type": "raw",
   "id": "8ca954b8",
   "metadata": {},
   "source": [
    "Difference b/w for and while looP:\n",
    "  #IN FOR loop we know how many time it will gonna execute\n",
    "  #in while loop we don't know how many time it will execute."
   ]
  },
  {
   "cell_type": "markdown",
   "id": "666c6c70",
   "metadata": {},
   "source": [
    "# enumerate: \n",
    "                    it's going to tag the index no for every name"
   ]
  },
  {
   "cell_type": "code",
   "execution_count": 43,
   "id": "d8ca1e4c",
   "metadata": {},
   "outputs": [
    {
     "name": "stdout",
     "output_type": "stream",
     "text": [
      "(0, 'naveen')\n",
      "(1, 'ratna')\n",
      "(2, 'pooja')\n",
      "(3, 'allen')\n",
      "(4, 'jaadu')\n"
     ]
    }
   ],
   "source": [
    "students = ['naveen','ratna','pooja','allen','jaadu']\n",
    "for name in enumerate(students):\n",
    "    print(name)"
   ]
  },
  {
   "cell_type": "code",
   "execution_count": 45,
   "id": "9c1551d6",
   "metadata": {},
   "outputs": [],
   "source": [
    "#for name in enumerate(students,100)  , it will start from index 100"
   ]
  },
  {
   "cell_type": "code",
   "execution_count": 46,
   "id": "4eef3f28",
   "metadata": {},
   "outputs": [
    {
     "name": "stdout",
     "output_type": "stream",
     "text": [
      "(100, 'naveen')\n",
      "(101, 'ratna')\n",
      "(102, 'pooja')\n",
      "(103, 'allen')\n",
      "(104, 'jaadu')\n"
     ]
    }
   ],
   "source": [
    "students = ['naveen','ratna','pooja','allen','jaadu']\n",
    "for name in enumerate(students , 100):\n",
    "    print(name)"
   ]
  },
  {
   "cell_type": "markdown",
   "id": "bd89ca0d",
   "metadata": {},
   "source": [
    "# zip:"
   ]
  },
  {
   "cell_type": "code",
   "execution_count": 47,
   "id": "78dc917a",
   "metadata": {},
   "outputs": [],
   "source": [
    "students_name = ['ravi','sushma','naveen','rooh','jind','rooh','aau']\n",
    "students_marks = [12,23,44,65,83,45,98]"
   ]
  },
  {
   "cell_type": "code",
   "execution_count": 49,
   "id": "c3c449ab",
   "metadata": {},
   "outputs": [],
   "source": [
    "student_details = list(zip(students_name,students_marks))"
   ]
  },
  {
   "cell_type": "code",
   "execution_count": 51,
   "id": "8e3c71b8",
   "metadata": {},
   "outputs": [
    {
     "data": {
      "text/plain": [
       "[('ravi', 12),\n",
       " ('sushma', 23),\n",
       " ('naveen', 44),\n",
       " ('rooh', 65),\n",
       " ('jind', 83),\n",
       " ('rooh', 45),\n",
       " ('aau', 98)]"
      ]
     },
     "execution_count": 51,
     "metadata": {},
     "output_type": "execute_result"
    }
   ],
   "source": [
    "student_details"
   ]
  },
  {
   "cell_type": "markdown",
   "id": "f3bf1eff",
   "metadata": {},
   "source": [
    "# unzip"
   ]
  },
  {
   "cell_type": "raw",
   "id": "2c3e5a2f",
   "metadata": {},
   "source": [
    "#note = in zip the zip thing will take thing upto the data only , if the marks are upto index 10 but the no of students are only 5 then it will zip the marks upto 5 students only"
   ]
  },
  {
   "cell_type": "code",
   "execution_count": 52,
   "id": "88a1912c",
   "metadata": {},
   "outputs": [],
   "source": [
    "unzip_students = students_name , students_marks"
   ]
  },
  {
   "cell_type": "code",
   "execution_count": 53,
   "id": "17b7be0b",
   "metadata": {},
   "outputs": [
    {
     "data": {
      "text/plain": [
       "(['ravi', 'sushma', 'naveen', 'rooh', 'jind', 'rooh', 'aau'],\n",
       " [12, 23, 44, 65, 83, 45, 98])"
      ]
     },
     "execution_count": 53,
     "metadata": {},
     "output_type": "execute_result"
    }
   ],
   "source": [
    "unzip_students"
   ]
  },
  {
   "cell_type": "markdown",
   "id": "88de5e13",
   "metadata": {},
   "source": [
    "# break and continue statement"
   ]
  },
  {
   "cell_type": "code",
   "execution_count": 66,
   "id": "fe520864",
   "metadata": {},
   "outputs": [],
   "source": [
    "#use of break system inside the loop\n",
    "city = ['bengaluru','noida','chennai','nagpur','sirsa']\n",
    "for val in city:\n",
    "    if val == 'chennai':\n",
    "        break\n",
    "        print(val)"
   ]
  },
  {
   "cell_type": "code",
   "execution_count": 64,
   "id": "0354932c",
   "metadata": {},
   "outputs": [
    {
     "data": {
      "text/plain": [
       "'chennai'"
      ]
     },
     "execution_count": 64,
     "metadata": {},
     "output_type": "execute_result"
    }
   ],
   "source": [
    "val"
   ]
  },
  {
   "cell_type": "code",
   "execution_count": 62,
   "id": "ae23fbf2",
   "metadata": {},
   "outputs": [
    {
     "data": {
      "text/plain": [
       "['bengaluru', 'noida', 'chennai', 'nagpur', 'sirsa']"
      ]
     },
     "execution_count": 62,
     "metadata": {},
     "output_type": "execute_result"
    }
   ],
   "source": [
    "city"
   ]
  },
  {
   "cell_type": "code",
   "execution_count": 67,
   "id": "e24db047",
   "metadata": {},
   "outputs": [
    {
     "ename": "SyntaxError",
     "evalue": "'break' outside loop (732652737.py, line 3)",
     "output_type": "error",
     "traceback": [
      "\u001b[1;36m  File \u001b[1;32m\"C:\\Users\\Asus\\AppData\\Local\\Temp\\ipykernel_6408\\732652737.py\"\u001b[1;36m, line \u001b[1;32m3\u001b[0m\n\u001b[1;33m    break\u001b[0m\n\u001b[1;37m    ^\u001b[0m\n\u001b[1;31mSyntaxError\u001b[0m\u001b[1;31m:\u001b[0m 'break' outside loop\n"
     ]
    }
   ],
   "source": [
    "salary = [12000,34000,67000,89000,63000,21000]\n",
    "if val in salary >69000:\n",
    "    break\n",
    "    print(val)"
   ]
  },
  {
   "cell_type": "code",
   "execution_count": null,
   "id": "9bd7cde0",
   "metadata": {},
   "outputs": [],
   "source": []
  }
 ],
 "metadata": {
  "kernelspec": {
   "display_name": "Python 3 (ipykernel)",
   "language": "python",
   "name": "python3"
  },
  "language_info": {
   "codemirror_mode": {
    "name": "ipython",
    "version": 3
   },
   "file_extension": ".py",
   "mimetype": "text/x-python",
   "name": "python",
   "nbconvert_exporter": "python",
   "pygments_lexer": "ipython3",
   "version": "3.9.13"
  }
 },
 "nbformat": 4,
 "nbformat_minor": 5
}
